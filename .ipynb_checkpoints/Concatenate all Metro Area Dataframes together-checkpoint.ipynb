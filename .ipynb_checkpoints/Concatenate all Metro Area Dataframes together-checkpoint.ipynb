{
 "cells": [
  {
   "cell_type": "code",
   "execution_count": 1,
   "metadata": {
    "collapsed": true
   },
   "outputs": [],
   "source": [
    "import numpy as np\n",
    "import os\n",
    "import pandas as pd"
   ]
  },
  {
   "cell_type": "code",
   "execution_count": 8,
   "metadata": {
    "collapsed": false
   },
   "outputs": [],
   "source": [
    "# Make dataframes for each metro's CSV file\n",
    "AUS = pd.read_csv(filepath_or_buffer=\"TicketData_AUS.csv\")\n",
    "NYC = pd.read_csv(filepath_or_buffer=\"TicketData_NYC.csv\")\n",
    "SFO = pd.read_csv(filepath_or_buffer=\"TicketData_SFO.csv\")"
   ]
  },
  {
   "cell_type": "code",
   "execution_count": 9,
   "metadata": {
    "collapsed": false
   },
   "outputs": [],
   "source": [
    "# Concatenate all dataframes together\n",
    "frames = [AUS, NYC, SFO]\n",
    "TicketData = pd.concat(frames)"
   ]
  },
  {
   "cell_type": "code",
   "execution_count": 30,
   "metadata": {
    "collapsed": false
   },
   "outputs": [
    {
     "name": "stdout",
     "output_type": "stream",
     "text": [
      "Total # of events: 708\n",
      "Total # of events with valid ticket face values: 359\n",
      "Total # of events with valid sold out values: 456\n",
      "Total # of events that are sold out: 27\n"
     ]
    }
   ],
   "source": [
    "# Check how many event rows we have and how many of them have actual face values\n",
    "num_rows = TicketData['face_value'].count()\n",
    "num_rows_with_face_values = TicketData[TicketData['face_value'].str.contains(\"\\$\")]['face_value'].count()\n",
    "num_rows_with_sold_out_values = TicketData[(TicketData['sold_out'] == '1') | \n",
    "                                           (TicketData['sold_out'] == '0')]['sold_out'].count()\n",
    "num_sold_out_events = TicketData[TicketData['sold_out'] == '1']['sold_out'].count()\n",
    "\n",
    "print(\"Total # of events: %s\" % num_rows)\n",
    "print(\"Total # of events with valid ticket face values: %s\" % num_rows_with_face_values)\n",
    "print(\"Total # of events with valid sold out values: %s\" % num_rows_with_sold_out_values)\n",
    "print(\"Total # of events that are sold out: %s\" % num_sold_out_events)"
   ]
  },
  {
   "cell_type": "code",
   "execution_count": 12,
   "metadata": {
    "collapsed": true
   },
   "outputs": [],
   "source": [
    "# Save concatenated dataframe as CSV\n",
    "TicketData.to_csv(path_or_buf=\"MasterTicketData.csv\", index=False)"
   ]
  },
  {
   "cell_type": "code",
   "execution_count": null,
   "metadata": {
    "collapsed": true
   },
   "outputs": [],
   "source": []
  }
 ],
 "metadata": {
  "kernelspec": {
   "display_name": "Python 2",
   "language": "python",
   "name": "python2"
  },
  "language_info": {
   "codemirror_mode": {
    "name": "ipython",
    "version": 2
   },
   "file_extension": ".py",
   "mimetype": "text/x-python",
   "name": "python",
   "nbconvert_exporter": "python",
   "pygments_lexer": "ipython2",
   "version": "2.7.11"
  }
 },
 "nbformat": 4,
 "nbformat_minor": 0
}
